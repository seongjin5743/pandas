{
 "cells": [
  {
   "cell_type": "code",
   "execution_count": 7,
   "id": "23c16e08-2b91-4c56-8408-c5d16417263f",
   "metadata": {},
   "outputs": [
    {
     "name": "stdout",
     "output_type": "stream",
     "text": [
      "68.9 ms ± 9.7 ms per loop (mean ± std. dev. of 7 runs, 10 loops each)\n",
      "2.35 ms ± 406 μs per loop (mean ± std. dev. of 7 runs, 100 loops each)\n"
     ]
    }
   ],
   "source": [
    "import numpy as np\n",
    "\n",
    "my_array = np.arange(1000000)\n",
    "my_list = list(range(1000000))\n",
    "\n",
    "%timeit my_list2 = [i * 2 for i in my_list]\n",
    "%timeit my_array2 = my_array * 2"
   ]
  },
  {
   "cell_type": "code",
   "execution_count": 16,
   "id": "5e64e806-04a3-4915-b3be-11fb1c47d5cf",
   "metadata": {},
   "outputs": [
    {
     "name": "stdout",
     "output_type": "stream",
     "text": [
      "[[ 1.   1.2  3. ]\n",
      " [-1.  -2.  -3. ]]\n",
      "-\n",
      "[[ 10.  12.  30.]\n",
      " [-10. -20. -30.]]\n",
      "[[ 2.   2.4  6. ]\n",
      " [-2.  -4.  -6. ]]\n",
      "-\n",
      "(2, 3)\n",
      "float64\n",
      "-\n"
     ]
    }
   ],
   "source": [
    "a = [[1, 1.2, 3], [-1, -2, -3]]\n",
    "data = np.array(a)\n",
    "print(data)\n",
    "print('-')\n",
    "\n",
    "# 0차원: 스칼라(scala), 1차원: 벡터(vector), 2차원: 메트릭스(matrix), 3차원 이상: 텐서(tenser)\n",
    "print(data * 10)\n",
    "print(data + data)\n",
    "print('-')\n",
    "\n",
    "print(data.shape)\n",
    "print(data.dtype)\n",
    "print('-')"
   ]
  },
  {
   "cell_type": "markdown",
   "id": "58590e4c-cc67-4f4f-b19a-912b851b227b",
   "metadata": {},
   "source": [
    "## ndarray 생성하기"
   ]
  },
  {
   "cell_type": "code",
   "execution_count": 26,
   "id": "caf0a23a-20af-4596-a063-a76a8c39c436",
   "metadata": {},
   "outputs": [
    {
     "name": "stdout",
     "output_type": "stream",
     "text": [
      "[1 2 3 4 5]\n",
      "<class 'numpy.ndarray'>\n",
      "-\n",
      "[[1.1 2.2]\n",
      " [3.3 4.4]]\n",
      "<class 'numpy.ndarray'>\n",
      "-\n",
      "1\n",
      "2\n",
      "-\n",
      "(5,)\n",
      "(2, 2)\n"
     ]
    }
   ],
   "source": [
    "import numpy as np\n",
    "\n",
    "data1 = [1,2,3,4,5]\n",
    "arr1 = np.array(data1)\n",
    "print(arr1)\n",
    "print(type(arr1))\n",
    "print('-')\n",
    "\n",
    "arr2 = np.array([[1.1,2.2], [3.3,4.4]])\n",
    "print(arr2)\n",
    "print(type(arr2))\n",
    "print('-')\n",
    "\n",
    "print(arr1.ndim)\n",
    "print(arr2.ndim)\n",
    "print('-')\n",
    "\n",
    "print(arr1.shape)\n",
    "print(arr2.shape)"
   ]
  },
  {
   "cell_type": "code",
   "execution_count": 33,
   "id": "864006a2-7354-4d3c-bc40-ad9f4c096c5a",
   "metadata": {},
   "outputs": [
    {
     "name": "stdout",
     "output_type": "stream",
     "text": [
      "[0. 0. 0. 0. 0. 0. 0. 0. 0. 0.]\n",
      "[0, 0, 0, 0, 0, 0, 0, 0, 0, 0]\n",
      "[[0. 0. 0. 0. 0.]\n",
      " [0. 0. 0. 0. 0.]\n",
      " [0. 0. 0. 0. 0.]\n",
      " [0. 0. 0. 0. 0.]\n",
      " [0. 0. 0. 0. 0.]]\n",
      "[[[0. 0.]\n",
      "  [0. 0.]]\n",
      "\n",
      " [[0. 0.]\n",
      "  [0. 0.]]]\n"
     ]
    }
   ],
   "source": [
    "print(np.zeros(10))\n",
    "print([0] * 10)\n",
    "\n",
    "print(np.zeros((5,5)))\n",
    "# 메모리 안에 남아있는 값들이 있을 때 0 대신 그 값들이 들어갈 수도 있다.\n",
    "print(np.empty((2,2,2)))"
   ]
  },
  {
   "cell_type": "code",
   "execution_count": 34,
   "id": "85afdd19-3e5d-454c-80ee-a8b7401d891d",
   "metadata": {},
   "outputs": [
    {
     "name": "stdout",
     "output_type": "stream",
     "text": [
      "[0 1 2 3 4 5 6 7 8 9]\n"
     ]
    }
   ],
   "source": [
    "print(np.arange(10))"
   ]
  },
  {
   "cell_type": "markdown",
   "id": "70b2a524-99c2-46a4-a379-cfbc7af15a47",
   "metadata": {},
   "source": [
    "## ndarray 자료형"
   ]
  },
  {
   "cell_type": "code",
   "execution_count": 39,
   "id": "33e357e6-d029-475b-8ccb-eee27b1c52a1",
   "metadata": {},
   "outputs": [
    {
     "name": "stdout",
     "output_type": "stream",
     "text": [
      "float64\n",
      "int32\n"
     ]
    }
   ],
   "source": [
    "arr1 = np.array([1,2,3], dtype = np.float64)\n",
    "arr2 = np.array([1,2,3], dtype = np.int32)\n",
    "\n",
    "print(arr1.dtype)\n",
    "print(arr2.dtype)"
   ]
  },
  {
   "cell_type": "code",
   "execution_count": 42,
   "id": "b57f4608-176d-45c1-9832-958037fb1b03",
   "metadata": {},
   "outputs": [
    {
     "name": "stdout",
     "output_type": "stream",
     "text": [
      "[1 2 3]\n",
      "int64\n",
      "[1. 2. 3.]\n",
      "float64\n",
      "-\n",
      "[1.1 2.2 3.3]\n",
      "float64\n",
      "[1 2 3]\n",
      "int64\n"
     ]
    }
   ],
   "source": [
    "arr1 = np.array([1,2,3])\n",
    "print(arr1)\n",
    "print(arr1.dtype)\n",
    "float_arr = arr1.astype(np.float64)\n",
    "print(float_arr)\n",
    "print(float_arr.dtype)\n",
    "print('-')\n",
    "\n",
    "arr2 = np.array([1.1, 2.2, 3.3])\n",
    "print(arr2)\n",
    "print(arr2.dtype)\n",
    "int_arr = arr2.astype(np.int64)\n",
    "print(int_arr)\n",
    "print(int_arr.dtype)"
   ]
  },
  {
   "cell_type": "markdown",
   "id": "485dbb01-c17d-4642-b721-25c8d9957b3b",
   "metadata": {},
   "source": [
    "## 산술 연산"
   ]
  },
  {
   "cell_type": "code",
   "execution_count": 52,
   "id": "ffc1401f-91dd-4c2b-9fe4-a2f1298cd685",
   "metadata": {},
   "outputs": [
    {
     "name": "stdout",
     "output_type": "stream",
     "text": [
      "[[1 2 3]\n",
      " [4 5 6]]\n",
      "[[ 1  4  9]\n",
      " [16 25 36]]\n",
      "[[ 2  4  6]\n",
      " [ 8 10 12]]\n",
      "[[1.         0.5        0.33333333]\n",
      " [0.25       0.2        0.16666667]]\n",
      "[[  1   8  27]\n",
      " [ 64 125 216]]\n",
      "[[0 0 0]\n",
      " [0 0 0]]\n",
      "-\n",
      "[[1 2 3]\n",
      " [4 5 6]] [[3 2 1]\n",
      " [6 5 4]]\n",
      "[[False False  True]\n",
      " [False False  True]]\n",
      "[[False False  True]\n",
      " [False False False]]\n"
     ]
    }
   ],
   "source": [
    "import numpy as np\n",
    "\n",
    "arr = np.array([[1,2,3], [4,5,6]])\n",
    "print(arr)\n",
    "print(arr * arr)\n",
    "print(arr + arr)\n",
    "print(1 / arr)\n",
    "print(arr ** 3)\n",
    "print(arr - arr)\n",
    "print('-')\n",
    "\n",
    "arr1 = np.array([[3,2,1], [6,5,4]])\n",
    "print(arr, arr1)\n",
    "print(arr > arr1)\n",
    "print(arr == 3)"
   ]
  },
  {
   "cell_type": "markdown",
   "id": "6723b73e-a92f-407a-9a18-87bbb300fb6f",
   "metadata": {},
   "source": [
    "## 색인과 슬라이싱"
   ]
  },
  {
   "cell_type": "code",
   "execution_count": 55,
   "id": "22876f96-3bea-4b20-955b-d2a26b0fbf2d",
   "metadata": {},
   "outputs": [
    {
     "name": "stdout",
     "output_type": "stream",
     "text": [
      "[0 1 2 3 4 5 6 7 8 9]\n",
      "5\n",
      "[2 3 4]\n",
      "-\n",
      "[ 0  1 10 10 10  5  6  7  8  9]\n"
     ]
    }
   ],
   "source": [
    "import numpy as np\n",
    "arr = np.arange(10)\n",
    "print(arr)\n",
    "print(arr[5])\n",
    "print(arr[2:5])\n",
    "print('-')\n",
    "\n",
    "arr[2:5] = 10\n",
    "print(arr)"
   ]
  },
  {
   "cell_type": "code",
   "execution_count": 56,
   "id": "d622d470-1f32-4f67-bfdb-1446312234fe",
   "metadata": {},
   "outputs": [
    {
     "name": "stdout",
     "output_type": "stream",
     "text": [
      "[1, 2, 3, 4, 5]\n"
     ]
    }
   ],
   "source": [
    "py_list = [1,2,3,4,5]\n",
    "py_list[2:3].pop()\n",
    "print(py_list)"
   ]
  },
  {
   "cell_type": "code",
   "execution_count": 61,
   "id": "ba3abb48-bbce-46be-8663-2c0f65ae8998",
   "metadata": {},
   "outputs": [
    {
     "name": "stdout",
     "output_type": "stream",
     "text": [
      "[[1 2 3]\n",
      " [4 5 6]]\n",
      "5\n",
      "5\n"
     ]
    }
   ],
   "source": [
    "arr = np.array([[1,2,3], [4,5,6]])\n",
    "print(arr)\n",
    "\n",
    "print(arr[1][1])\n",
    "print(arr[1,1])"
   ]
  },
  {
   "cell_type": "code",
   "execution_count": 64,
   "id": "a6f5df09-cbb4-4669-bb77-5bb11c5e632e",
   "metadata": {},
   "outputs": [
    {
     "name": "stdout",
     "output_type": "stream",
     "text": [
      "[[[ 1  2  3]\n",
      "  [ 4  5  6]\n",
      "  [ 7  8  9]]\n",
      "\n",
      " [[10 11 12]\n",
      "  [13 14 15]\n",
      "  [16 17 18]]\n",
      "\n",
      " [[19 20 21]\n",
      "  [22 23 24]\n",
      "  [25 26 27]]]\n"
     ]
    }
   ],
   "source": [
    "arr = np.array([[[1,2,3], [4,5,6], [7,8,9]], \n",
    "                 [[10, 11, 12], [13,14,15], [16,17,18]], \n",
    "                [[19, 20, 21], [22,23,24], [25,26,27]]])\n",
    "print(arr)"
   ]
  },
  {
   "cell_type": "code",
   "execution_count": 72,
   "id": "1eb40cc3-1307-4785-9485-71b5650bdf37",
   "metadata": {},
   "outputs": [
    {
     "name": "stdout",
     "output_type": "stream",
     "text": [
      "20\n",
      "20\n",
      "[[[6]\n",
      "  [9]]]\n",
      "[[6]\n",
      " [9]]\n",
      "[[[   1    2    3]\n",
      "  [   4    5 9999]\n",
      "  [   7    8 9999]]\n",
      "\n",
      " [[  10   11   12]\n",
      "  [  13   14   15]\n",
      "  [  16   17   18]]\n",
      "\n",
      " [[  19   20   21]\n",
      "  [  22   23   24]\n",
      "  [  25   26   27]]]\n"
     ]
    }
   ],
   "source": [
    "arr3d = np.array([[[1,2,3], [4,5,6], [7,8,9]], \n",
    "                 [[10, 11, 12], [13,14,15], [16,17,18]], \n",
    "                [[19, 20, 21], [22,23,24], [25,26,27]]])\n",
    "print(arr3d[2][0][1])\n",
    "print(arr3d[2,0,1])\n",
    "\n",
    "# 인덱스 접근은 안으로 들어가는 것이기 때문에 대괄호가 하나 줄어든다.\n",
    "print(arr3d[:1, 1:, 2:])\n",
    "print(arr3d[0, 1:, 2:])\n",
    "\n",
    "arr3d[:1, 1:, 2:] = 9999\n",
    "print(arr3d)"
   ]
  },
  {
   "cell_type": "markdown",
   "id": "3c592824-f50a-4e49-b0bf-03a639d3114a",
   "metadata": {},
   "source": [
    "## 불리언 값으로 선택"
   ]
  },
  {
   "cell_type": "code",
   "execution_count": 83,
   "id": "714f0a41-8128-4231-98af-9e9a89228a0e",
   "metadata": {},
   "outputs": [
    {
     "name": "stdout",
     "output_type": "stream",
     "text": [
      "[ True False  True False]\n",
      "[['math' '60']\n",
      " ['eng' '70']]\n",
      "-\n",
      "['math' 'eng']\n",
      "[['math']\n",
      " ['eng']]\n",
      "-\n",
      "[False  True False  True]\n",
      "[False  True False  True]\n"
     ]
    }
   ],
   "source": [
    "import numpy as np\n",
    "\n",
    "names= np.array(['hwang', 'hong', 'hwang', 'hong'])\n",
    "data = np.array([['math', 60], ['math', 90], ['eng', 70], ['eng', 50]])\n",
    "\n",
    "print(names == 'hwang')\n",
    "print(data[names == 'hwang'])\n",
    "print('-')\n",
    "\n",
    "print(data[names == 'hwang', 0])\n",
    "print(data[names == 'hwang', :1])\n",
    "print('-')\n",
    "\n",
    "print(names != 'hwang')\n",
    "print(~(names == 'hwang'))"
   ]
  },
  {
   "cell_type": "code",
   "execution_count": 85,
   "id": "d7d7a255-9989-4c0d-b997-c71380d62e87",
   "metadata": {},
   "outputs": [
    {
     "name": "stdout",
     "output_type": "stream",
     "text": [
      "[['math' '60']\n",
      " ['eng' '70']]\n"
     ]
    }
   ],
   "source": [
    "cond = names == 'hwang'\n",
    "print(data[cond])"
   ]
  },
  {
   "cell_type": "markdown",
   "id": "07172b84-9e39-4432-89dd-3afa2f82a48f",
   "metadata": {},
   "source": [
    "## 팬시 색인 (fancy indexing)"
   ]
  },
  {
   "cell_type": "code",
   "execution_count": 92,
   "id": "02e90e92-733b-407d-b12c-44b2db9a2630",
   "metadata": {},
   "outputs": [
    {
     "name": "stdout",
     "output_type": "stream",
     "text": [
      "[[0. 0. 0. 0.]\n",
      " [0. 0. 0. 0.]\n",
      " [0. 0. 0. 0.]\n",
      " [0. 0. 0. 0.]\n",
      " [0. 0. 0. 0.]\n",
      " [0. 0. 0. 0.]\n",
      " [0. 0. 0. 0.]\n",
      " [0. 0. 0. 0.]]\n",
      "-\n",
      "[[0. 0. 0. 0.]\n",
      " [1. 1. 1. 1.]\n",
      " [2. 2. 2. 2.]\n",
      " [3. 3. 3. 3.]\n",
      " [4. 4. 4. 4.]\n",
      " [5. 5. 5. 5.]\n",
      " [6. 6. 6. 6.]\n",
      " [7. 7. 7. 7.]]\n",
      "-\n",
      "[[4. 4. 4. 4.]\n",
      " [3. 3. 3. 3.]\n",
      " [2. 2. 2. 2.]\n",
      " [1. 1. 1. 1.]]\n",
      "-\n",
      "[[5. 5. 5. 5.]\n",
      " [6. 6. 6. 6.]\n",
      " [3. 3. 3. 3.]]\n"
     ]
    }
   ],
   "source": [
    "import numpy as np\n",
    "\n",
    "arr = np.zeros((8,4))\n",
    "print(arr)\n",
    "print('-')\n",
    "\n",
    "for i in range(8):\n",
    "    arr[i] = i\n",
    "print(arr)\n",
    "print('-')\n",
    "\n",
    "# 원하는 인덱스에서 있는 값들을 뽑아올 수 있다\n",
    "print(arr[[4,3,2,1]])\n",
    "print('-')\n",
    "print(arr[[-3,-2, -5]])"
   ]
  },
  {
   "cell_type": "code",
   "execution_count": 102,
   "id": "33c58611-b9b5-4210-8243-b12d8ab2b42d",
   "metadata": {},
   "outputs": [
    {
     "name": "stdout",
     "output_type": "stream",
     "text": [
      "[[ 0  1  2  3]\n",
      " [ 4  5  6  7]\n",
      " [ 8  9 10 11]\n",
      " [12 13 14 15]\n",
      " [16 17 18 19]\n",
      " [20 21 22 23]\n",
      " [24 25 26 27]\n",
      " [28 29 30 31]]\n",
      "-\n",
      "[ 6 23]\n",
      "[[ 6  7]\n",
      " [22 23]]\n"
     ]
    }
   ],
   "source": [
    "arr = np.arange(0, 32).reshape(8, 4)\n",
    "print(arr)\n",
    "print('-')\n",
    "print(arr[[1, 5], [2, 3]])\n",
    "print(arr[[1, 5]][:, [2, 3]])"
   ]
  },
  {
   "cell_type": "markdown",
   "id": "eed6e9df-a42b-4170-b39e-94eb086606e3",
   "metadata": {},
   "source": [
    "## 배열 전치"
   ]
  },
  {
   "cell_type": "code",
   "execution_count": 106,
   "id": "4df3d02d-6385-4e19-8036-9276a5216083",
   "metadata": {},
   "outputs": [
    {
     "name": "stdout",
     "output_type": "stream",
     "text": [
      "[[ 0  1  2  3  4]\n",
      " [ 5  6  7  8  9]\n",
      " [10 11 12 13 14]]\n",
      "-\n",
      "[[ 0  5 10]\n",
      " [ 1  6 11]\n",
      " [ 2  7 12]\n",
      " [ 3  8 13]\n",
      " [ 4  9 14]]\n"
     ]
    }
   ],
   "source": [
    "arr = np.arange(15).reshape(3, 5)\n",
    "print(arr)\n",
    "print('-')\n",
    "print(arr.T)"
   ]
  },
  {
   "cell_type": "code",
   "execution_count": 109,
   "id": "3419a76a-268a-4998-afcb-c37d3a96b43a",
   "metadata": {},
   "outputs": [
    {
     "name": "stdout",
     "output_type": "stream",
     "text": [
      "[[ 30  80 130]\n",
      " [ 80 255 430]\n",
      " [130 430 730]]\n",
      "[[ 30  80 130]\n",
      " [ 80 255 430]\n",
      " [130 430 730]]\n"
     ]
    }
   ],
   "source": [
    "# 행렬의 내적, 곱\n",
    "print(arr @ arr.T)\n",
    "print(np.dot(arr, arr.T))"
   ]
  },
  {
   "cell_type": "markdown",
   "id": "3bf964cc-a7b9-4edf-8935-25ac870b8502",
   "metadata": {},
   "source": [
    "## numpy 함수"
   ]
  },
  {
   "cell_type": "code",
   "execution_count": 275,
   "id": "f106b069-c7dd-4bf2-81d3-ffb040d4510e",
   "metadata": {},
   "outputs": [
    {
     "name": "stdout",
     "output_type": "stream",
     "text": [
      "[[-0.36799524 -0.21408068  0.24890472]\n",
      " [-0.8374264   0.27330969 -0.46977861]\n",
      " [ 0.38032956 -0.82478234  1.26882593]]\n"
     ]
    }
   ],
   "source": [
    "samples = np.random.standard_normal(size = (3,3))\n",
    "print(samples)"
   ]
  },
  {
   "cell_type": "code",
   "execution_count": 276,
   "id": "d925718e-10fd-485e-9115-b777e97f32ba",
   "metadata": {},
   "outputs": [
    {
     "name": "stdout",
     "output_type": "stream",
     "text": [
      "[[       nan        nan 0.49890352]\n",
      " [       nan 0.52279029        nan]\n",
      " [0.61670865        nan 1.12642174]]\n",
      "[[0.36799524 0.21408068 0.24890472]\n",
      " [0.8374264  0.27330969 0.46977861]\n",
      " [0.38032956 0.82478234 1.26882593]]\n",
      "[[ True  True False]\n",
      " [ True False  True]\n",
      " [False  True False]]\n",
      "[[False False False]\n",
      " [False False False]\n",
      " [False False False]]\n"
     ]
    },
    {
     "name": "stderr",
     "output_type": "stream",
     "text": [
      "C:\\Users\\seong\\AppData\\Local\\Temp\\ipykernel_27196\\1901053778.py:2: RuntimeWarning: invalid value encountered in sqrt\n",
      "  arr = np.sqrt(samples)\n"
     ]
    }
   ],
   "source": [
    "# nan은 결측치\n",
    "arr = np.sqrt(samples)\n",
    "print(arr)\n",
    "print('-')\n",
    "\n",
    "arr1 = np.abs(samples)\n",
    "print(arr1)\n",
    "print('-')\n",
    "\n",
    "print(np.isnan(arr))\n",
    "print(np.isnan(arr1))"
   ]
  },
  {
   "cell_type": "code",
   "execution_count": null,
   "id": "3c7ef82c-c6e5-492a-b078-b433e977cbf3",
   "metadata": {},
   "outputs": [],
   "source": []
  }
 ],
 "metadata": {
  "kernelspec": {
   "display_name": "Python 3 (ipykernel)",
   "language": "python",
   "name": "python3"
  },
  "language_info": {
   "codemirror_mode": {
    "name": "ipython",
    "version": 3
   },
   "file_extension": ".py",
   "mimetype": "text/x-python",
   "name": "python",
   "nbconvert_exporter": "python",
   "pygments_lexer": "ipython3",
   "version": "3.13.2"
  }
 },
 "nbformat": 4,
 "nbformat_minor": 5
}
